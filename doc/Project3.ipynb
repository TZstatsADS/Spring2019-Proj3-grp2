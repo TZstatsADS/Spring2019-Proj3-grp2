{
 "cells": [
  {
   "cell_type": "code",
   "execution_count": 1,
   "metadata": {},
   "outputs": [],
   "source": [
    "import pandas as pd\n",
    "import numpy as np\n",
    "import matplotlib.pyplot as plt\n",
    "import seaborn as sns\n",
    "import time\n",
    "%matplotlib notebook\n",
    "import warnings\n",
    "warnings.filterwarnings('ignore')\n",
    "\n",
    "import cv2"
   ]
  },
  {
   "cell_type": "markdown",
   "metadata": {},
   "source": [
    "# Import image"
   ]
  },
  {
   "cell_type": "code",
   "execution_count": 68,
   "metadata": {},
   "outputs": [
    {
     "name": "stdout",
     "output_type": "stream",
     "text": [
      "10.017777681350708\n"
     ]
    }
   ],
   "source": [
    "import glob\n",
    "\n",
    "start = time.time()\n",
    "\n",
    "LR = [cv2.imread(file).astype(np.float64) for file in glob.glob(\"./train_set/LR/*.jpg\")]\n",
    "HR = [cv2.imread(file).astype(np.float64) for file in glob.glob(\"./train_set/HR/*.jpg\")]\n",
    "end = time.time()\n",
    "print(end - start)"
   ]
  },
  {
   "cell_type": "markdown",
   "metadata": {},
   "source": [
    "# Use traditional method"
   ]
  },
  {
   "cell_type": "code",
   "execution_count": 91,
   "metadata": {},
   "outputs": [],
   "source": [
    "LR_original = [cv2.imread(file) for file in glob.glob(\"./train_set/LR/*.jpg\")]\n",
    "\n",
    "LR_to_HR = [cv2.resize(lr, (lr.shape[1]*2, lr.shape[0]*2), interpolation = cv2.INTER_CUBIC) for lr in LR_original] "
   ]
  },
  {
   "cell_type": "code",
   "execution_count": 113,
   "metadata": {},
   "outputs": [
    {
     "data": {
      "text/plain": [
       "526.1424388278496"
      ]
     },
     "execution_count": 113,
     "metadata": {},
     "output_type": "execute_result"
    }
   ],
   "source": [
    "def mse(imageA, imageB):\n",
    "    # the 'Mean Squared Error' between the two images is the\n",
    "    # sum of the squared difference between the two images;\n",
    "    # NOTE: the two images must have the same dimension\n",
    "    err = np.sum((imageA - imageB) ** 2)\n",
    "    err /= float(imageA.shape[0] * imageA.shape[1])\n",
    "    \n",
    "    # return the MSE, the lower the error, the more \"similar\"\n",
    "    # the two images are\n",
    "    return err\n",
    "\n",
    "m = 0\n",
    "for i in np.arange(1500):\n",
    "    m += mse(HR[i],LR_to_HR[i])\n",
    "m/1500"
   ]
  },
  {
   "cell_type": "markdown",
   "metadata": {},
   "source": [
    "# Get Features X and respond y using baseline"
   ]
  },
  {
   "cell_type": "code",
   "execution_count": 5,
   "metadata": {},
   "outputs": [],
   "source": [
    "seed = 123\n",
    "channels = np.arange(3)"
   ]
  },
  {
   "cell_type": "code",
   "execution_count": 6,
   "metadata": {},
   "outputs": [],
   "source": [
    "# Get X and y for single pair of LR and HR\n",
    "def get_X_and_y(LR,HR,n_sample = 1000,seed = seed):\n",
    "    # determine seed\n",
    "    np.random.seed(seed)\n",
    "    \n",
    "    # Find neighbor\n",
    "    def get_neighbor_X(a,i,j):\n",
    "        return([a[i-1,j-1],a[i-1,j],a[i-1,j+1],a[i,j-1],a[i,j+1],a[i+1,j-1],a[i+1,j],a[i+1,j+1]],a[i,j])\n",
    "\n",
    "    def get_neighbor_y(a,i,j):\n",
    "        return([a[i,j],a[i+1,j],a[i,j+1],a[i+1,j+1]])\n",
    "    \n",
    "    # padding LR image\n",
    "    BLACK = [0, 0, 0]\n",
    "    image_padding = cv2.copyMakeBorder(LR, 1 , 1, 1, 1, cv2.BORDER_CONSTANT, value=BLACK)\n",
    "    \n",
    "    y1 = np.zeros((1*n_sample,4))\n",
    "    y2 = np.zeros((1*n_sample,4))\n",
    "    y3 = np.zeros((1*n_sample,4))\n",
    "    \n",
    "    X1 = np.zeros((1*n_sample,8))\n",
    "    X2 = np.zeros((1*n_sample,8))\n",
    "    X3 = np.zeros((1*n_sample,8))\n",
    "    \n",
    "    result = [X1,X2,X3]\n",
    "    Y = [y1,y2,y3]\n",
    "    \n",
    "#     height = LR.shape[1]\n",
    "#     width = LR.shape[0]\n",
    "    width = LR.shape[1]\n",
    "    height = LR.shape[0]\n",
    "    \n",
    "    # Random pick n_sample point per image\n",
    "    pts_row = np.random.randint(1, height + 1,size = n_sample)\n",
    "    pts_col = np.random.randint(1, width + 1,size = n_sample)\n",
    "    \n",
    "    for X,y,channel in zip(result,Y,channels):\n",
    "        index = 0\n",
    "        for i,j in zip(pts_row,pts_col):\n",
    "            X_neighbor,central = get_neighbor_X(image_padding[:,:,channel],i,j)\n",
    "            y_neigbor = get_neighbor_y(HR[:,:,channel],2*(i-1),2*(j-1))\n",
    "            # Get X\n",
    "            X[index] = X_neighbor - central\n",
    "            # Get y\n",
    "            y[index] = y_neigbor - central\n",
    "            index +=1\n",
    "    \n",
    "    \n",
    "    # Stack X&Y to 3d\n",
    "    return np.dstack(result),np.dstack(Y)"
   ]
  },
  {
   "cell_type": "code",
   "execution_count": 7,
   "metadata": {},
   "outputs": [],
   "source": [
    "def get_Whole_X_and_y(LR,HR,n_sample = 1000,seed = seed):\n",
    "    flag = 0\n",
    "    for lr,hr in zip(LR,HR):\n",
    "        if (flag == 0):\n",
    "            X,y = get_X_and_y(lr,hr,n_sample,seed)\n",
    "            flag = 1\n",
    "        else:\n",
    "            X_temp,y_temp = get_X_and_y(lr,hr,n_sample,seed)\n",
    "            X = np.vstack([X,X_temp])\n",
    "            y = np.vstack([y,y_temp])\n",
    "    return X,y"
   ]
  },
  {
   "cell_type": "code",
   "execution_count": 8,
   "metadata": {},
   "outputs": [
    {
     "name": "stdout",
     "output_type": "stream",
     "text": [
      "22.788359880447388\n"
     ]
    }
   ],
   "source": [
    "start = time.time()\n",
    "X,y = get_Whole_X_and_y(LR,HR,n_sample = 100)\n",
    "end = time.time()\n",
    "print(end - start)"
   ]
  },
  {
   "cell_type": "code",
   "execution_count": 9,
   "metadata": {
    "scrolled": true
   },
   "outputs": [
    {
     "name": "stdout",
     "output_type": "stream",
     "text": [
      "(150000, 8, 3) (150000, 4, 3)\n"
     ]
    }
   ],
   "source": [
    "print(X.shape,y.shape)"
   ]
  },
  {
   "cell_type": "markdown",
   "metadata": {},
   "source": [
    "# Train & Test split"
   ]
  },
  {
   "cell_type": "code",
   "execution_count": 16,
   "metadata": {},
   "outputs": [],
   "source": [
    "from sklearn.model_selection import train_test_split\n",
    "\n",
    "X_train, X_test, y_train, y_test = train_test_split(X, y, test_size=0.2,shuffle = True ,random_state=seed)"
   ]
  },
  {
   "cell_type": "code",
   "execution_count": 129,
   "metadata": {},
   "outputs": [
    {
     "data": {
      "text/plain": [
       "(120000, 4, 3)"
      ]
     },
     "execution_count": 129,
     "metadata": {},
     "output_type": "execute_result"
    }
   ],
   "source": [
    "y_train.shape"
   ]
  },
  {
   "cell_type": "code",
   "execution_count": 131,
   "metadata": {},
   "outputs": [
    {
     "data": {
      "text/plain": [
       "(120000, 8, 3)"
      ]
     },
     "execution_count": 131,
     "metadata": {},
     "output_type": "execute_result"
    }
   ],
   "source": [
    "X_train.shape"
   ]
  },
  {
   "cell_type": "markdown",
   "metadata": {},
   "source": [
    "# Prepare functions"
   ]
  },
  {
   "cell_type": "markdown",
   "metadata": {},
   "source": [
    "###### Prediction"
   ]
  },
  {
   "cell_type": "code",
   "execution_count": 132,
   "metadata": {
    "scrolled": true
   },
   "outputs": [],
   "source": [
    "# test paramter == True means you want to predict X_test, False mean you want to predict X_train\n",
    "def Prediction(X_tr,y_tr,X_ts,model1,model2,model3,model4,test = True):\n",
    "    \n",
    "    if (test == False):\n",
    "        X_test = X_tr\n",
    "        \n",
    "    else:\n",
    "        X_test = X_ts\n",
    "    \n",
    "    prediction1 = np.zeros((X_test.shape[0],1,3))\n",
    "    prediction2 = np.zeros((X_test.shape[0],1,3))\n",
    "    prediction3 = np.zeros((X_test.shape[0],1,3))\n",
    "    prediction4 = np.zeros((X_test.shape[0],1,3))\n",
    "\n",
    "    for channel in channels:\n",
    "        model1.fit(X_tr[:,:,channel],y_tr[:,0,channel].reshape(-1,1))\n",
    "        model2.fit(X_tr[:,:,channel],y_tr[:,1,channel].reshape(-1,1))\n",
    "        model3.fit(X_tr[:,:,channel],y_tr[:,2,channel].reshape(-1,1))\n",
    "        model4.fit(X_tr[:,:,channel],y_tr[:,3,channel].reshape(-1,1))\n",
    "\n",
    "        prediction1[:,:,channel] = model1.predict(X_test[:,:,channel]).reshape(-1,1)\n",
    "        prediction2[:,:,channel] = model2.predict(X_test[:,:,channel]).reshape(-1,1)\n",
    "        prediction3[:,:,channel] = model3.predict(X_test[:,:,channel]).reshape(-1,1)\n",
    "        prediction4[:,:,channel] = model4.predict(X_test[:,:,channel]).reshape(-1,1)\n",
    "    \n",
    "    return np.concatenate([prediction1,prediction2,prediction3,prediction4],axis = 1)\n"
   ]
  },
  {
   "cell_type": "markdown",
   "metadata": {},
   "source": [
    "###### Metric"
   ]
  },
  {
   "cell_type": "code",
   "execution_count": 120,
   "metadata": {},
   "outputs": [],
   "source": [
    "import math\n",
    "\n",
    "def MSE(y_true,y_predict):\n",
    "    temp = (y_true - y_predict)**2\n",
    "    return sum(temp.reshape(-1))/(temp.shape[0]*temp.shape[1]*temp.shape[2])\n",
    "\n",
    "def psnr(MSE):\n",
    "    MAXI = 225\n",
    "    return 20*math.log10(MAXI)-10*math.log10(MSE)"
   ]
  },
  {
   "cell_type": "markdown",
   "metadata": {},
   "source": [
    "###### CV"
   ]
  },
  {
   "cell_type": "code",
   "execution_count": 125,
   "metadata": {},
   "outputs": [],
   "source": [
    "from sklearn.model_selection import KFold\n",
    "\n",
    "# Output testing error and training error\n",
    "def cross_validation(X_train,y_train,model1,model2,model3,model4,folds= 3):\n",
    "    kf = KFold(n_splits=folds)\n",
    "    val_error = []\n",
    "    tr_error = []\n",
    "    for train_index, val_index in kf.split(X_train):\n",
    "        X_tr,y_tr = X_train[train_index],y_train[train_index]\n",
    "        X_val,y_val = X_train[val_index],y_train[val_index]\n",
    "        \n",
    "        y_predict_val = Prediction(X_tr,y_tr,X_val,model1,model2,model3,model4,test = True)\n",
    "        y_predict_tr = Prediction(X_tr,y_tr,X_val,model1,model2,model3,model4,test = False)\n",
    "        # Metric \n",
    "        val_error.append(MSE(y_val,y_predict)) # change metric here\n",
    "        tr_error.append(MSE(y_tr,y_predict)) # change metric here\n",
    "        \n",
    "        return val_error,tr_error\n",
    "        "
   ]
  },
  {
   "cell_type": "markdown",
   "metadata": {},
   "source": [
    "###### Grid Search"
   ]
  },
  {
   "cell_type": "code",
   "execution_count": 141,
   "metadata": {},
   "outputs": [],
   "source": [
    "from sklearn.metrics import make_scorer\n",
    "from sklearn.model_selection import GridSearchCV\n",
    "\n",
    "# scorer can be MSE or PSNR\n",
    "\n",
    "def my_grid_search(X_train,y_train,scorer,model,parameters,cv = 3):\n",
    "    my_scorer = make_scorer(scorer, greater_is_better=False)\n",
    "    reg = GridSearchCV(model,\n",
    "                       scoring = my_scorer,\n",
    "                       cv=cv,\n",
    "                      param_grid = parameters)\n",
    "    reg.fit(X_train, y_train)\n",
    "    \n",
    "    print('Best params',reg.best_params_)\n",
    "    print('Best score:',reg.score(X_train, y_train))\n",
    "    \n",
    "    return reg.best_params_"
   ]
  },
  {
   "cell_type": "markdown",
   "metadata": {},
   "source": [
    "# Train using base model (gradient boosting)"
   ]
  },
  {
   "cell_type": "code",
   "execution_count": 20,
   "metadata": {},
   "outputs": [],
   "source": [
    "from sklearn.ensemble import GradientBoostingRegressor\n",
    "\n",
    "parameters = {\n",
    "    'learning_rate':0.1, # tuning (started with higher learning rate), hight value --> overfit\n",
    "    'n_estimators' : 100, # tuning with learning_rate\n",
    "    'criterion' : 'mse',\n",
    "    'min_samples_split' : 2, # tuning,high values --> under-fitting\n",
    "    'min_samples_leaf' : 1, # tuning, similar to min_samples_split\n",
    "    'max_depth' : 3, # tuning, high value --> overfitting\n",
    "    'max_features' : 3, # ROT: = sqrt(# of features) \n",
    "    'subsample' : 0.8,\n",
    "    'random_state' : seed\n",
    "}"
   ]
  },
  {
   "cell_type": "markdown",
   "metadata": {},
   "source": [
    "### Do CV"
   ]
  },
  {
   "cell_type": "code",
   "execution_count": 144,
   "metadata": {},
   "outputs": [
    {
     "ename": "KeyboardInterrupt",
     "evalue": "",
     "output_type": "error",
     "traceback": [
      "\u001b[1;31m---------------------------------------------------------------------------\u001b[0m",
      "\u001b[1;31mKeyboardInterrupt\u001b[0m                         Traceback (most recent call last)",
      "\u001b[1;32m<ipython-input-144-4dd2ae371bbd>\u001b[0m in \u001b[0;36m<module>\u001b[1;34m()\u001b[0m\n\u001b[0;32m      1\u001b[0m \u001b[0mstart\u001b[0m \u001b[1;33m=\u001b[0m \u001b[0mtime\u001b[0m\u001b[1;33m.\u001b[0m\u001b[0mtime\u001b[0m\u001b[1;33m(\u001b[0m\u001b[1;33m)\u001b[0m\u001b[1;33m\u001b[0m\u001b[0m\n\u001b[0;32m      2\u001b[0m \u001b[1;33m\u001b[0m\u001b[0m\n\u001b[1;32m----> 3\u001b[1;33m \u001b[0mval_error\u001b[0m\u001b[1;33m,\u001b[0m\u001b[0mtr_error\u001b[0m \u001b[1;33m=\u001b[0m \u001b[0mcross_validation\u001b[0m\u001b[1;33m(\u001b[0m\u001b[0mX_train\u001b[0m\u001b[1;33m,\u001b[0m\u001b[0my_train\u001b[0m\u001b[1;33m,\u001b[0m\u001b[0mgbm1\u001b[0m\u001b[1;33m,\u001b[0m\u001b[0mgbm2\u001b[0m\u001b[1;33m,\u001b[0m\u001b[0mgbm3\u001b[0m\u001b[1;33m,\u001b[0m\u001b[0mgbm4\u001b[0m\u001b[1;33m,\u001b[0m\u001b[0mfolds\u001b[0m\u001b[1;33m=\u001b[0m \u001b[1;36m3\u001b[0m\u001b[1;33m)\u001b[0m\u001b[1;33m\u001b[0m\u001b[0m\n\u001b[0m\u001b[0;32m      4\u001b[0m \u001b[0mprint\u001b[0m\u001b[1;33m(\u001b[0m\u001b[1;34m'Validation error mean:'\u001b[0m\u001b[1;33m,\u001b[0m\u001b[0mval_error\u001b[0m\u001b[1;33m,\u001b[0m\u001b[1;34m'Train error mean:'\u001b[0m\u001b[1;33m,\u001b[0m\u001b[0mtr_error\u001b[0m\u001b[1;33m)\u001b[0m\u001b[1;33m\u001b[0m\u001b[0m\n\u001b[0;32m      5\u001b[0m \u001b[1;33m\u001b[0m\u001b[0m\n",
      "\u001b[1;32m<ipython-input-125-2aff53a1a1d4>\u001b[0m in \u001b[0;36mcross_validation\u001b[1;34m(X_train, y_train, model1, model2, model3, model4, folds)\u001b[0m\n\u001b[0;32m      8\u001b[0m         \u001b[0mX_val\u001b[0m\u001b[1;33m,\u001b[0m\u001b[0my_val\u001b[0m \u001b[1;33m=\u001b[0m \u001b[0mX_train\u001b[0m\u001b[1;33m[\u001b[0m\u001b[0mval_index\u001b[0m\u001b[1;33m]\u001b[0m\u001b[1;33m,\u001b[0m\u001b[0my_train\u001b[0m\u001b[1;33m[\u001b[0m\u001b[0mval_index\u001b[0m\u001b[1;33m]\u001b[0m\u001b[1;33m\u001b[0m\u001b[0m\n\u001b[0;32m      9\u001b[0m \u001b[1;33m\u001b[0m\u001b[0m\n\u001b[1;32m---> 10\u001b[1;33m         \u001b[0my_predict\u001b[0m \u001b[1;33m=\u001b[0m \u001b[0mPrediction\u001b[0m\u001b[1;33m(\u001b[0m\u001b[0mX_tr\u001b[0m\u001b[1;33m,\u001b[0m\u001b[0my_tr\u001b[0m\u001b[1;33m,\u001b[0m\u001b[0mX_val\u001b[0m\u001b[1;33m,\u001b[0m\u001b[0mmodel1\u001b[0m\u001b[1;33m,\u001b[0m\u001b[0mmodel2\u001b[0m\u001b[1;33m,\u001b[0m\u001b[0mmodel3\u001b[0m\u001b[1;33m,\u001b[0m\u001b[0mmodel4\u001b[0m\u001b[1;33m)\u001b[0m\u001b[1;33m\u001b[0m\u001b[0m\n\u001b[0m\u001b[0;32m     11\u001b[0m \u001b[1;33m\u001b[0m\u001b[0m\n\u001b[0;32m     12\u001b[0m         \u001b[1;31m# Metric\u001b[0m\u001b[1;33m\u001b[0m\u001b[1;33m\u001b[0m\u001b[0m\n",
      "\u001b[1;32m<ipython-input-132-5c70c31b9d78>\u001b[0m in \u001b[0;36mPrediction\u001b[1;34m(X_tr, y_tr, X_ts, model1, model2, model3, model4, test)\u001b[0m\n\u001b[0;32m     13\u001b[0m \u001b[1;33m\u001b[0m\u001b[0m\n\u001b[0;32m     14\u001b[0m     \u001b[1;32mfor\u001b[0m \u001b[0mchannel\u001b[0m \u001b[1;32min\u001b[0m \u001b[0mchannels\u001b[0m\u001b[1;33m:\u001b[0m\u001b[1;33m\u001b[0m\u001b[0m\n\u001b[1;32m---> 15\u001b[1;33m         \u001b[0mmodel1\u001b[0m\u001b[1;33m.\u001b[0m\u001b[0mfit\u001b[0m\u001b[1;33m(\u001b[0m\u001b[0mX_tr\u001b[0m\u001b[1;33m[\u001b[0m\u001b[1;33m:\u001b[0m\u001b[1;33m,\u001b[0m\u001b[1;33m:\u001b[0m\u001b[1;33m,\u001b[0m\u001b[0mchannel\u001b[0m\u001b[1;33m]\u001b[0m\u001b[1;33m,\u001b[0m\u001b[0my_tr\u001b[0m\u001b[1;33m[\u001b[0m\u001b[1;33m:\u001b[0m\u001b[1;33m,\u001b[0m\u001b[1;36m0\u001b[0m\u001b[1;33m,\u001b[0m\u001b[0mchannel\u001b[0m\u001b[1;33m]\u001b[0m\u001b[1;33m.\u001b[0m\u001b[0mreshape\u001b[0m\u001b[1;33m(\u001b[0m\u001b[1;33m-\u001b[0m\u001b[1;36m1\u001b[0m\u001b[1;33m,\u001b[0m\u001b[1;36m1\u001b[0m\u001b[1;33m)\u001b[0m\u001b[1;33m)\u001b[0m\u001b[1;33m\u001b[0m\u001b[0m\n\u001b[0m\u001b[0;32m     16\u001b[0m         \u001b[0mmodel2\u001b[0m\u001b[1;33m.\u001b[0m\u001b[0mfit\u001b[0m\u001b[1;33m(\u001b[0m\u001b[0mX_tr\u001b[0m\u001b[1;33m[\u001b[0m\u001b[1;33m:\u001b[0m\u001b[1;33m,\u001b[0m\u001b[1;33m:\u001b[0m\u001b[1;33m,\u001b[0m\u001b[0mchannel\u001b[0m\u001b[1;33m]\u001b[0m\u001b[1;33m,\u001b[0m\u001b[0my_tr\u001b[0m\u001b[1;33m[\u001b[0m\u001b[1;33m:\u001b[0m\u001b[1;33m,\u001b[0m\u001b[1;36m1\u001b[0m\u001b[1;33m,\u001b[0m\u001b[0mchannel\u001b[0m\u001b[1;33m]\u001b[0m\u001b[1;33m.\u001b[0m\u001b[0mreshape\u001b[0m\u001b[1;33m(\u001b[0m\u001b[1;33m-\u001b[0m\u001b[1;36m1\u001b[0m\u001b[1;33m,\u001b[0m\u001b[1;36m1\u001b[0m\u001b[1;33m)\u001b[0m\u001b[1;33m)\u001b[0m\u001b[1;33m\u001b[0m\u001b[0m\n\u001b[0;32m     17\u001b[0m         \u001b[0mmodel3\u001b[0m\u001b[1;33m.\u001b[0m\u001b[0mfit\u001b[0m\u001b[1;33m(\u001b[0m\u001b[0mX_tr\u001b[0m\u001b[1;33m[\u001b[0m\u001b[1;33m:\u001b[0m\u001b[1;33m,\u001b[0m\u001b[1;33m:\u001b[0m\u001b[1;33m,\u001b[0m\u001b[0mchannel\u001b[0m\u001b[1;33m]\u001b[0m\u001b[1;33m,\u001b[0m\u001b[0my_tr\u001b[0m\u001b[1;33m[\u001b[0m\u001b[1;33m:\u001b[0m\u001b[1;33m,\u001b[0m\u001b[1;36m2\u001b[0m\u001b[1;33m,\u001b[0m\u001b[0mchannel\u001b[0m\u001b[1;33m]\u001b[0m\u001b[1;33m.\u001b[0m\u001b[0mreshape\u001b[0m\u001b[1;33m(\u001b[0m\u001b[1;33m-\u001b[0m\u001b[1;36m1\u001b[0m\u001b[1;33m,\u001b[0m\u001b[1;36m1\u001b[0m\u001b[1;33m)\u001b[0m\u001b[1;33m)\u001b[0m\u001b[1;33m\u001b[0m\u001b[0m\n",
      "\u001b[1;32m/home/huangyhxm/anaconda3/lib/python3.5/site-packages/sklearn/ensemble/gradient_boosting.py\u001b[0m in \u001b[0;36mfit\u001b[1;34m(self, X, y, sample_weight, monitor)\u001b[0m\n\u001b[0;32m   1463\u001b[0m         n_stages = self._fit_stages(X, y, y_pred, sample_weight, self._rng,\n\u001b[0;32m   1464\u001b[0m                                     \u001b[0mX_val\u001b[0m\u001b[1;33m,\u001b[0m \u001b[0my_val\u001b[0m\u001b[1;33m,\u001b[0m \u001b[0msample_weight_val\u001b[0m\u001b[1;33m,\u001b[0m\u001b[1;33m\u001b[0m\u001b[0m\n\u001b[1;32m-> 1465\u001b[1;33m                                     begin_at_stage, monitor, X_idx_sorted)\n\u001b[0m\u001b[0;32m   1466\u001b[0m \u001b[1;33m\u001b[0m\u001b[0m\n\u001b[0;32m   1467\u001b[0m         \u001b[1;31m# change shape of arrays after fit (early-stopping or additional ests)\u001b[0m\u001b[1;33m\u001b[0m\u001b[1;33m\u001b[0m\u001b[0m\n",
      "\u001b[1;32m/home/huangyhxm/anaconda3/lib/python3.5/site-packages/sklearn/ensemble/gradient_boosting.py\u001b[0m in \u001b[0;36m_fit_stages\u001b[1;34m(self, X, y, y_pred, sample_weight, random_state, X_val, y_val, sample_weight_val, begin_at_stage, monitor, X_idx_sorted)\u001b[0m\n\u001b[0;32m   1527\u001b[0m             y_pred = self._fit_stage(i, X, y, y_pred, sample_weight,\n\u001b[0;32m   1528\u001b[0m                                      \u001b[0msample_mask\u001b[0m\u001b[1;33m,\u001b[0m \u001b[0mrandom_state\u001b[0m\u001b[1;33m,\u001b[0m \u001b[0mX_idx_sorted\u001b[0m\u001b[1;33m,\u001b[0m\u001b[1;33m\u001b[0m\u001b[0m\n\u001b[1;32m-> 1529\u001b[1;33m                                      X_csc, X_csr)\n\u001b[0m\u001b[0;32m   1530\u001b[0m \u001b[1;33m\u001b[0m\u001b[0m\n\u001b[0;32m   1531\u001b[0m             \u001b[1;31m# track deviance (= loss)\u001b[0m\u001b[1;33m\u001b[0m\u001b[1;33m\u001b[0m\u001b[0m\n",
      "\u001b[1;32m/home/huangyhxm/anaconda3/lib/python3.5/site-packages/sklearn/ensemble/gradient_boosting.py\u001b[0m in \u001b[0;36m_fit_stage\u001b[1;34m(self, i, X, y, y_pred, sample_weight, sample_mask, random_state, X_idx_sorted, X_csc, X_csr)\u001b[0m\n\u001b[0;32m   1192\u001b[0m             \u001b[0mX\u001b[0m \u001b[1;33m=\u001b[0m \u001b[0mX_csr\u001b[0m \u001b[1;32mif\u001b[0m \u001b[0mX_csr\u001b[0m \u001b[1;32mis\u001b[0m \u001b[1;32mnot\u001b[0m \u001b[1;32mNone\u001b[0m \u001b[1;32melse\u001b[0m \u001b[0mX\u001b[0m\u001b[1;33m\u001b[0m\u001b[0m\n\u001b[0;32m   1193\u001b[0m             tree.fit(X, residual, sample_weight=sample_weight,\n\u001b[1;32m-> 1194\u001b[1;33m                      check_input=False, X_idx_sorted=X_idx_sorted)\n\u001b[0m\u001b[0;32m   1195\u001b[0m \u001b[1;33m\u001b[0m\u001b[0m\n\u001b[0;32m   1196\u001b[0m             \u001b[1;31m# update tree leaves\u001b[0m\u001b[1;33m\u001b[0m\u001b[1;33m\u001b[0m\u001b[0m\n",
      "\u001b[1;32m/home/huangyhxm/anaconda3/lib/python3.5/site-packages/sklearn/tree/tree.py\u001b[0m in \u001b[0;36mfit\u001b[1;34m(self, X, y, sample_weight, check_input, X_idx_sorted)\u001b[0m\n\u001b[0;32m   1140\u001b[0m             \u001b[0msample_weight\u001b[0m\u001b[1;33m=\u001b[0m\u001b[0msample_weight\u001b[0m\u001b[1;33m,\u001b[0m\u001b[1;33m\u001b[0m\u001b[0m\n\u001b[0;32m   1141\u001b[0m             \u001b[0mcheck_input\u001b[0m\u001b[1;33m=\u001b[0m\u001b[0mcheck_input\u001b[0m\u001b[1;33m,\u001b[0m\u001b[1;33m\u001b[0m\u001b[0m\n\u001b[1;32m-> 1142\u001b[1;33m             X_idx_sorted=X_idx_sorted)\n\u001b[0m\u001b[0;32m   1143\u001b[0m         \u001b[1;32mreturn\u001b[0m \u001b[0mself\u001b[0m\u001b[1;33m\u001b[0m\u001b[0m\n\u001b[0;32m   1144\u001b[0m \u001b[1;33m\u001b[0m\u001b[0m\n",
      "\u001b[1;32m/home/huangyhxm/anaconda3/lib/python3.5/site-packages/sklearn/tree/tree.py\u001b[0m in \u001b[0;36mfit\u001b[1;34m(self, X, y, sample_weight, check_input, X_idx_sorted)\u001b[0m\n\u001b[0;32m    364\u001b[0m                                            min_impurity_split)\n\u001b[0;32m    365\u001b[0m \u001b[1;33m\u001b[0m\u001b[0m\n\u001b[1;32m--> 366\u001b[1;33m         \u001b[0mbuilder\u001b[0m\u001b[1;33m.\u001b[0m\u001b[0mbuild\u001b[0m\u001b[1;33m(\u001b[0m\u001b[0mself\u001b[0m\u001b[1;33m.\u001b[0m\u001b[0mtree_\u001b[0m\u001b[1;33m,\u001b[0m \u001b[0mX\u001b[0m\u001b[1;33m,\u001b[0m \u001b[0my\u001b[0m\u001b[1;33m,\u001b[0m \u001b[0msample_weight\u001b[0m\u001b[1;33m,\u001b[0m \u001b[0mX_idx_sorted\u001b[0m\u001b[1;33m)\u001b[0m\u001b[1;33m\u001b[0m\u001b[0m\n\u001b[0m\u001b[0;32m    367\u001b[0m \u001b[1;33m\u001b[0m\u001b[0m\n\u001b[0;32m    368\u001b[0m         \u001b[1;32mif\u001b[0m \u001b[0mself\u001b[0m\u001b[1;33m.\u001b[0m\u001b[0mn_outputs_\u001b[0m \u001b[1;33m==\u001b[0m \u001b[1;36m1\u001b[0m\u001b[1;33m:\u001b[0m\u001b[1;33m\u001b[0m\u001b[0m\n",
      "\u001b[1;31mKeyboardInterrupt\u001b[0m: "
     ]
    }
   ],
   "source": [
    "start = time.time()\n",
    "\n",
    "val_error,tr_error = cross_validation(X_train,y_train,gbm1,gbm2,gbm3,gbm4,folds= 3)\n",
    "print('Validation error:',val_error,'Train error:',tr_error)\n",
    "\n",
    "end = time.time()\n",
    "print(end - start)"
   ]
  },
  {
   "cell_type": "code",
   "execution_count": 133,
   "metadata": {},
   "outputs": [
    {
     "name": "stdout",
     "output_type": "stream",
     "text": [
      "55.478797912597656\n"
     ]
    }
   ],
   "source": [
    "start = time.time()\n",
    "\n",
    "gbm1 = GradientBoostingRegressor(**parameters)\n",
    "gbm2 = GradientBoostingRegressor(**parameters)\n",
    "gbm3 = GradientBoostingRegressor(**parameters)\n",
    "gbm4 = GradientBoostingRegressor(**parameters)\n",
    "\n",
    "prediction = Prediction(X_train,y_train,X_test,gbm1,gbm2,gbm3,gbm4,test = False)\n",
    "\n",
    "end = time.time()\n",
    "print(end - start)"
   ]
  },
  {
   "cell_type": "code",
   "execution_count": 127,
   "metadata": {},
   "outputs": [
    {
     "data": {
      "text/plain": [
       "166.01452526135617"
      ]
     },
     "execution_count": 127,
     "metadata": {},
     "output_type": "execute_result"
    }
   ],
   "source": [
    "# MSE(prediction , y_test)"
   ]
  },
  {
   "cell_type": "code",
   "execution_count": 134,
   "metadata": {},
   "outputs": [
    {
     "data": {
      "text/plain": [
       "157.74098508507356"
      ]
     },
     "execution_count": 134,
     "metadata": {},
     "output_type": "execute_result"
    }
   ],
   "source": [
    "MSE(prediction , y_train)"
   ]
  },
  {
   "cell_type": "code",
   "execution_count": 119,
   "metadata": {},
   "outputs": [
    {
     "data": {
      "text/plain": [
       "24.8421894839429"
      ]
     },
     "execution_count": 119,
     "metadata": {},
     "output_type": "execute_result"
    }
   ],
   "source": [
    "psnr(m)"
   ]
  },
  {
   "cell_type": "code",
   "execution_count": 349,
   "metadata": {
    "scrolled": true
   },
   "outputs": [],
   "source": [
    "# def get_X_and_y(LR,HR):\n",
    "    \n",
    "#     def get_neighbor_X(a,i,j):\n",
    "#         return([a[i-1,j-1],a[i-1,j],a[i-1,j+1],a[i,j-1],a[i,j+1],a[i+1,j-1],a[i+1,j],a[i+1,j+1]],a[i,j])\n",
    "\n",
    "#     def get_neighbor_y(a,i,j):\n",
    "#         return([a[i,j],a[i+1,j],a[i,j+1],a[i+1,j+1]],a[i,j])\n",
    "    \n",
    "#     BLACK = [0, 0, 0]\n",
    "#     image_padding = cv2.copyMakeBorder(LR, 1 , 1, 1, 1, cv2.BORDER_CONSTANT, value=BLACK)\n",
    "    \n",
    "#     height = LR.shape[1]\n",
    "#     width = LR.shape[0]\n",
    "    \n",
    "#     y1 = np.zeros((height*width,4))\n",
    "#     y2 = np.zeros((height*width,4))\n",
    "#     y3 = np.zeros((height*width,4))\n",
    "    \n",
    "#     X1 = np.zeros((height*width,8))\n",
    "#     X2 = np.zeros((height*width,8))\n",
    "#     X3 = np.zeros((height*width,8))\n",
    "    \n",
    "#     result = [X1,X2,X3]\n",
    "#     Y = [y1,y2,y3]\n",
    "    \n",
    "#     for X,y,channel in zip(result,Y,channels):\n",
    "#         index = 0\n",
    "#         for i,iy in zip(np.arange(1,width + 1),np.arange(0,width_HR,2)):\n",
    "#             for j,jy in zip(np.arange(1,height + 1),np.arange(0,height_HR,2)):\n",
    "#                 neighbor,central = get_neighbor_X(image_padding[:,:,channel],i,j)\n",
    "#                 y_neigbor,y_central = get_neighbor_y(HR[:,:,channel],iy,jy)\n",
    "#                 # Get X\n",
    "#                 X[index] = neighbor - central\n",
    "#                 # Get y\n",
    "#                 y[index] = y_neigbor - y_central\n",
    "#                 index +=1\n",
    "    \n",
    "    \n",
    "#     # Stack X&Y to 3d\n",
    "#     return np.dstack(result),np.dstack(Y)"
   ]
  },
  {
   "cell_type": "code",
   "execution_count": null,
   "metadata": {},
   "outputs": [],
   "source": []
  }
 ],
 "metadata": {
  "kernelspec": {
   "display_name": "Python 3",
   "language": "python",
   "name": "python3"
  },
  "language_info": {
   "codemirror_mode": {
    "name": "ipython",
    "version": 3
   },
   "file_extension": ".py",
   "mimetype": "text/x-python",
   "name": "python",
   "nbconvert_exporter": "python",
   "pygments_lexer": "ipython3",
   "version": "3.5.4"
  }
 },
 "nbformat": 4,
 "nbformat_minor": 2
}

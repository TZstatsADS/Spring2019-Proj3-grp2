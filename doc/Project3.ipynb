{
 "cells": [
  {
   "cell_type": "code",
   "execution_count": 1,
   "metadata": {},
   "outputs": [],
   "source": [
    "import pandas as pd\n",
    "import numpy as np\n",
    "import matplotlib.pyplot as plt\n",
    "import seaborn as sns\n",
    "import time\n",
    "%matplotlib notebook\n",
    "import warnings\n",
    "warnings.filterwarnings('ignore')\n",
    "from tqdm import tqdm_notebook\n",
    "import cv2"
   ]
  },
  {
   "cell_type": "markdown",
   "metadata": {},
   "source": [
    "# Import image"
   ]
  },
  {
   "cell_type": "code",
   "execution_count": 106,
   "metadata": {},
   "outputs": [
    {
     "name": "stdout",
     "output_type": "stream",
     "text": [
      "Time: 17.45333170890808\n"
     ]
    }
   ],
   "source": [
    "import glob\n",
    "\n",
    "start = time.time()\n",
    "\n",
    "LR = [cv2.imread(file).astype(np.float32) for file in glob.glob(\"./train_set/LR/*.jpg\")]\n",
    "HR = [cv2.imread(file).astype(np.float32) for file in glob.glob(\"./train_set/HR/*.jpg\")]\n",
    "end = time.time()\n",
    "print('Time:',end - start)"
   ]
  },
  {
   "cell_type": "markdown",
   "metadata": {},
   "source": [
    "###### Metric"
   ]
  },
  {
   "cell_type": "code",
   "execution_count": 107,
   "metadata": {},
   "outputs": [],
   "source": [
    "import math\n",
    "\n",
    "def MSE(y_true,y_predict):\n",
    "    temp = (y_true - y_predict)**2\n",
    "    return sum(temp.reshape(-1))/(temp.shape[0]*temp.shape[1]*temp.shape[2])\n",
    "\n",
    "def psnr(y_true,y_predict):\n",
    "    temp = (y_true - y_predict)**2\n",
    "    mse = sum(temp.reshape(-1))/(temp.shape[0]*temp.shape[1]*temp.shape[2])\n",
    "    MAXI = 225\n",
    "    return 20*math.log10(MAXI)-10*math.log10(mse)"
   ]
  },
  {
   "cell_type": "markdown",
   "metadata": {},
   "source": [
    "# Use traditional method"
   ]
  },
  {
   "cell_type": "code",
   "execution_count": 108,
   "metadata": {},
   "outputs": [],
   "source": [
    "LR_original = [cv2.imread(file) for file in glob.glob(\"./train_set/LR/*.jpg\")]\n",
    "\n",
    "LR_to_HR = [cv2.resize(lr, (lr.shape[1]*2, lr.shape[0]*2), interpolation = cv2.INTER_NEAREST) for lr in LR_original] "
   ]
  },
  {
   "cell_type": "code",
   "execution_count": 109,
   "metadata": {},
   "outputs": [
    {
     "name": "stdout",
     "output_type": "stream",
     "text": [
      "psnr: 24.696329045027174\n",
      "Time: 303.26858949661255\n"
     ]
    }
   ],
   "source": [
    "start = time.time()\n",
    "\n",
    "m = []\n",
    "for i in np.arange(1500):\n",
    "    m.append(psnr(HR[i],LR_to_HR[i]))\n",
    "\n",
    "end = time.time()\n",
    "print('psnr:',np.mean(m))\n",
    "print('Time:',end - start)\n"
   ]
  },
  {
   "cell_type": "markdown",
   "metadata": {},
   "source": [
    "# Get Features X and respond y using baseline"
   ]
  },
  {
   "cell_type": "markdown",
   "metadata": {},
   "source": [
    "### Define basic parameters"
   ]
  },
  {
   "cell_type": "code",
   "execution_count": 110,
   "metadata": {},
   "outputs": [],
   "source": [
    "seed = 1000\n",
    "channels = np.arange(3)\n",
    "sample_size = 100"
   ]
  },
  {
   "cell_type": "code",
   "execution_count": 111,
   "metadata": {},
   "outputs": [],
   "source": [
    "# Get X and y for single pair of LR and HR\n",
    "def get_X_and_y(LR,HR,n_sample = sample_size,seed = seed):\n",
    "    # determine seed\n",
    "    np.random.seed(seed)\n",
    "    \n",
    "    # Find neighbor\n",
    "    def get_neighbor_X(a,i,j):\n",
    "        return([a[i-1,j-1],a[i-1,j],a[i-1,j+1],a[i,j-1],a[i,j+1],a[i+1,j-1],a[i+1,j],a[i+1,j+1]],a[i,j])\n",
    "\n",
    "    def get_neighbor_y(a,i,j):\n",
    "        return([a[i,j],a[i+1,j],a[i,j+1],a[i+1,j+1]])\n",
    "    \n",
    "    # padding LR image\n",
    "    BLACK = [0, 0, 0]\n",
    "    image_padding = cv2.copyMakeBorder(LR, 1 , 1, 1, 1, cv2.BORDER_CONSTANT, value=BLACK)\n",
    "    \n",
    "    y1 = np.zeros((1*n_sample,4))\n",
    "    y2 = np.zeros((1*n_sample,4))\n",
    "    y3 = np.zeros((1*n_sample,4))\n",
    "    \n",
    "    X1 = np.zeros((1*n_sample,8))\n",
    "    X2 = np.zeros((1*n_sample,8))\n",
    "    X3 = np.zeros((1*n_sample,8))\n",
    "    \n",
    "    result = [X1,X2,X3]\n",
    "    Y = [y1,y2,y3]\n",
    "    \n",
    "#     height = LR.shape[1]\n",
    "#     width = LR.shape[0]\n",
    "    width = LR.shape[1]\n",
    "    height = LR.shape[0]\n",
    "    \n",
    "    # Random pick n_sample point per image\n",
    "    pts_row = np.random.randint(1, height + 1,size = n_sample)\n",
    "    pts_col = np.random.randint(1, width + 1,size = n_sample)\n",
    "    \n",
    "    for X,y,channel in zip(result,Y,channels):\n",
    "        index = 0\n",
    "        for i,j in zip(pts_row,pts_col):\n",
    "            X_neighbor,central = get_neighbor_X(image_padding[:,:,channel],i,j)\n",
    "            y_neigbor = get_neighbor_y(HR[:,:,channel],2*(i-1),2*(j-1))\n",
    "            # Get X\n",
    "            X[index] = X_neighbor - central\n",
    "            # Get y\n",
    "            y[index] = y_neigbor - central\n",
    "            index +=1\n",
    "    \n",
    "    \n",
    "    # Stack X&Y to 3d\n",
    "    return np.dstack(result),np.dstack(Y)"
   ]
  },
  {
   "cell_type": "code",
   "execution_count": 112,
   "metadata": {},
   "outputs": [],
   "source": [
    "def get_Whole_X_and_y(LR,HR,n_sample = sample_size,seed = seed):\n",
    "    flag = 0\n",
    "    for lr,hr in tqdm_notebook(zip(LR,HR)):\n",
    "        if (flag == 0):\n",
    "            X,y = get_X_and_y(lr,hr,n_sample,seed)\n",
    "            flag = 1\n",
    "        else:\n",
    "            X_temp,y_temp = get_X_and_y(lr,hr,n_sample,seed)\n",
    "            X = np.vstack([X,X_temp])\n",
    "            y = np.vstack([y,y_temp])\n",
    "    return X,y"
   ]
  },
  {
   "cell_type": "code",
   "execution_count": 113,
   "metadata": {},
   "outputs": [
    {
     "name": "stdout",
     "output_type": "stream",
     "text": [
      "Time: 20.721944093704224\n"
     ]
    }
   ],
   "source": [
    "# n_sample should be 1000\n",
    "start = time.time()\n",
    "X,y = get_Whole_X_and_y(LR,HR,n_sample = sample_size)\n",
    "end = time.time()\n",
    "print('Time:',end - start)"
   ]
  },
  {
   "cell_type": "code",
   "execution_count": 114,
   "metadata": {
    "scrolled": true
   },
   "outputs": [
    {
     "name": "stdout",
     "output_type": "stream",
     "text": [
      "(150000, 8, 3) (150000, 4, 3)\n"
     ]
    }
   ],
   "source": [
    "print(X.shape,y.shape)"
   ]
  },
  {
   "cell_type": "markdown",
   "metadata": {},
   "source": [
    "# Train & Test split"
   ]
  },
  {
   "cell_type": "code",
   "execution_count": 115,
   "metadata": {},
   "outputs": [],
   "source": [
    "from sklearn.model_selection import train_test_split\n",
    "\n",
    "X_train, X_test, y_train, y_test = train_test_split(X, y, test_size=0.2,shuffle = True ,random_state=seed)"
   ]
  },
  {
   "cell_type": "code",
   "execution_count": 116,
   "metadata": {},
   "outputs": [
    {
     "name": "stdout",
     "output_type": "stream",
     "text": [
      "(120000, 8, 3) (120000, 4, 3)\n"
     ]
    }
   ],
   "source": [
    "print(X_train.shape,y_train.shape)"
   ]
  },
  {
   "cell_type": "code",
   "execution_count": 117,
   "metadata": {},
   "outputs": [
    {
     "name": "stdout",
     "output_type": "stream",
     "text": [
      "(30000, 8, 3) (30000, 4, 3)\n"
     ]
    }
   ],
   "source": [
    "print(X_test.shape,y_test.shape)"
   ]
  },
  {
   "cell_type": "markdown",
   "metadata": {},
   "source": [
    "# Prepare functions"
   ]
  },
  {
   "cell_type": "markdown",
   "metadata": {},
   "source": [
    "###### Prediction (12 models)"
   ]
  },
  {
   "cell_type": "code",
   "execution_count": 119,
   "metadata": {
    "scrolled": true
   },
   "outputs": [],
   "source": [
    "# test paramter == True means you want to predict X_test, False mean you want to predict X_train\n",
    "# model_list = [model1,model2,model3,model4,model5,model6,model7,model8,model9,model10,model2,model3]\n",
    "def Prediction(X_tr,y_tr,X_ts,model_list,test = True):\n",
    "    \n",
    "    if (test == False):\n",
    "        X_test = X_tr\n",
    "        \n",
    "    else:\n",
    "        X_test = X_ts\n",
    "    \n",
    "    prediction1 = np.zeros((X_test.shape[0],1,3))\n",
    "    prediction2 = np.zeros((X_test.shape[0],1,3))\n",
    "    prediction3 = np.zeros((X_test.shape[0],1,3))\n",
    "    prediction4 = np.zeros((X_test.shape[0],1,3))\n",
    "    \n",
    "    predictions = [prediction1,prediction2,prediction3,prediction4]\n",
    "    \n",
    "    index = 0\n",
    "    for channel in channels:\n",
    "        for i,prediction in enumerate(predictions):\n",
    "            model_list[index].fit(X_tr[:,:,channel],y_tr[:,i,channel].reshape(-1,1))\n",
    "            prediction[:,:,channel] = model_list[index].predict(X_test[:,:,channel]).reshape(-1,1)\n",
    "            index += 1\n",
    "    return np.concatenate(predictions,axis = 1)\n"
   ]
  },
  {
   "cell_type": "markdown",
   "metadata": {},
   "source": [
    "###### CV"
   ]
  },
  {
   "cell_type": "code",
   "execution_count": 120,
   "metadata": {},
   "outputs": [],
   "source": [
    "from sklearn.model_selection import KFold\n",
    "\n",
    "# Output testing error and training error\n",
    "def cross_validation(X_train,y_train,model_list,metric,folds= 3):\n",
    "    kf = KFold(n_splits=folds)\n",
    "    val_error = []\n",
    "    tr_error = []\n",
    "    for train_index, val_index in tqdm_notebook(kf.split(X_train)):\n",
    "        X_tr,y_tr = X_train[train_index],y_train[train_index]\n",
    "        X_val,y_val = X_train[val_index],y_train[val_index]\n",
    "        \n",
    "        y_predict_val = Prediction(X_tr,y_tr,X_val,model_list,test = True)\n",
    "        y_predict_tr = Prediction(X_tr,y_tr,X_val,model_list,test = False)\n",
    "        # Metric \n",
    "        val_error.append(round(metric(y_val,y_predict_val),2)) # change metric here\n",
    "        tr_error.append(round(metric(y_tr,y_predict_tr),2)) # change metric here\n",
    "        \n",
    "    return val_error,tr_error\n",
    "        "
   ]
  },
  {
   "cell_type": "markdown",
   "metadata": {},
   "source": [
    "###### Grid Search ???"
   ]
  },
  {
   "cell_type": "code",
   "execution_count": 121,
   "metadata": {},
   "outputs": [],
   "source": [
    "from sklearn.metrics import make_scorer\n",
    "from sklearn.model_selection import GridSearchCV\n",
    "\n",
    "def my_grid_search(X_train,y_train,model,parameters,cv = 3,n_jobs = 6):\n",
    "    \n",
    "    \n",
    "    reg = GridSearchCV(model,\n",
    "                       cv=cv,\n",
    "                      param_grid = parameters,\n",
    "                      n_jobs = n_jobs)\n",
    "    reg.fit(X_train, y_train)\n",
    "    \n",
    "    print('Best params',reg.best_params_)\n",
    "    print('Best score:',reg.score(X_train, y_train))\n",
    "    \n",
    "    return reg.best_params_\n",
    "\n",
    "def grid_search_all_model(X_train,y_train,model,parameters,cv = 3):\n",
    "    best_params = []\n",
    "    index = 0\n",
    "    for channel in channels:\n",
    "        for i in np.arange(4):\n",
    "            X_tr = X_train[:,:,channel]\n",
    "            y_tr = y_train[:,i,channel]\n",
    "            \n",
    "            print('Model',index)\n",
    "            model = model.fit(X_tr,y_tr)\n",
    "            best_params.append(my_grid_search(X_tr,y_tr,model,parameters,cv = cv))\n",
    "            index += 1\n",
    "            \n",
    "    return best_params"
   ]
  },
  {
   "cell_type": "markdown",
   "metadata": {},
   "source": [
    "# Train using base model (gradient boosting)"
   ]
  },
  {
   "cell_type": "markdown",
   "metadata": {},
   "source": [
    "###### Grid Search"
   ]
  },
  {
   "cell_type": "code",
   "execution_count": 45,
   "metadata": {},
   "outputs": [],
   "source": [
    "from sklearn.ensemble import GradientBoostingRegressor\n",
    "\n",
    "parameters_tunning = {\n",
    "    'learning_rate':[0.01, 0.1, 0.2, 0.3], # tuning (started with higher learning rate), hight value --> overfit\n",
    "    'min_samples_split' : [2, 5, 10], # tuning,high values --> under-fitting\n",
    "    'min_samples_leaf' : [2, 4,8,10], # tuning, similar to min_samples_split\n",
    "}\n",
    "\n",
    "model = GradientBoostingRegressor()"
   ]
  },
  {
   "cell_type": "code",
   "execution_count": 46,
   "metadata": {},
   "outputs": [
    {
     "name": "stdout",
     "output_type": "stream",
     "text": [
      "Best params {'learning_rate': 0.2, 'min_samples_split': 2, 'min_samples_leaf': 10}\n",
      "Best score: 0.36883367761185804\n",
      "Best params {'learning_rate': 0.1, 'min_samples_split': 5, 'min_samples_leaf': 4}\n",
      "Best score: 0.35356424908904105\n",
      "Best params {'learning_rate': 0.1, 'min_samples_split': 10, 'min_samples_leaf': 10}\n",
      "Best score: 0.354804349407137\n",
      "Best params {'learning_rate': 0.1, 'min_samples_split': 2, 'min_samples_leaf': 10}\n",
      "Best score: 0.35465534772572105\n",
      "Best params {'learning_rate': 0.2, 'min_samples_split': 5, 'min_samples_leaf': 10}\n",
      "Best score: 0.3912244087675837\n",
      "Best params {'learning_rate': 0.1, 'min_samples_split': 5, 'min_samples_leaf': 10}\n",
      "Best score: 0.3728838152368016\n",
      "Best params {'learning_rate': 0.1, 'min_samples_split': 10, 'min_samples_leaf': 10}\n",
      "Best score: 0.3714308925973806\n",
      "Best params {'learning_rate': 0.1, 'min_samples_split': 10, 'min_samples_leaf': 8}\n",
      "Best score: 0.36988781655361\n",
      "Best params {'learning_rate': 0.2, 'min_samples_split': 5, 'min_samples_leaf': 8}\n",
      "Best score: 0.38202897404560465\n",
      "Best params {'learning_rate': 0.1, 'min_samples_split': 2, 'min_samples_leaf': 8}\n",
      "Best score: 0.3649975639631902\n",
      "Best params {'learning_rate': 0.1, 'min_samples_split': 2, 'min_samples_leaf': 10}\n",
      "Best score: 0.3623502516878975\n",
      "Best params {'learning_rate': 0.1, 'min_samples_split': 2, 'min_samples_leaf': 10}\n",
      "Best score: 0.36195591714396286\n",
      "Time: 2889.977420568466\n"
     ]
    }
   ],
   "source": [
    "start = time.time()\n",
    "best = grid_search_all_model(X_train,y_train,model,parameters_tunning,cv = 3)\n",
    "\n",
    "end = time.time()\n",
    "print('Time:',end - start)"
   ]
  },
  {
   "cell_type": "code",
   "execution_count": 50,
   "metadata": {},
   "outputs": [
    {
     "data": {
      "text/plain": [
       "[{'learning_rate': 0.2, 'min_samples_leaf': 10, 'min_samples_split': 2},\n",
       " {'learning_rate': 0.1, 'min_samples_leaf': 4, 'min_samples_split': 5},\n",
       " {'learning_rate': 0.1, 'min_samples_leaf': 10, 'min_samples_split': 10},\n",
       " {'learning_rate': 0.1, 'min_samples_leaf': 10, 'min_samples_split': 2},\n",
       " {'learning_rate': 0.2, 'min_samples_leaf': 10, 'min_samples_split': 5},\n",
       " {'learning_rate': 0.1, 'min_samples_leaf': 10, 'min_samples_split': 5},\n",
       " {'learning_rate': 0.1, 'min_samples_leaf': 10, 'min_samples_split': 10},\n",
       " {'learning_rate': 0.1, 'min_samples_leaf': 8, 'min_samples_split': 10},\n",
       " {'learning_rate': 0.2, 'min_samples_leaf': 8, 'min_samples_split': 5},\n",
       " {'learning_rate': 0.1, 'min_samples_leaf': 8, 'min_samples_split': 2},\n",
       " {'learning_rate': 0.1, 'min_samples_leaf': 10, 'min_samples_split': 2},\n",
       " {'learning_rate': 0.1, 'min_samples_leaf': 10, 'min_samples_split': 2}]"
      ]
     },
     "execution_count": 50,
     "metadata": {},
     "output_type": "execute_result"
    }
   ],
   "source": [
    "best"
   ]
  },
  {
   "cell_type": "code",
   "execution_count": 123,
   "metadata": {},
   "outputs": [
    {
     "name": "stdout",
     "output_type": "stream",
     "text": [
      "Time: 0.0002956390380859375\n"
     ]
    }
   ],
   "source": [
    "start = time.time()\n",
    "\n",
    "model_list = []\n",
    "\n",
    "for i in np.arange(12):\n",
    "    model_list.append(GradientBoostingRegressor(**best[i],random_state = seed))\n",
    "\n",
    "end = time.time()\n",
    "print('Time:',end - start)"
   ]
  },
  {
   "cell_type": "markdown",
   "metadata": {},
   "source": [
    "### Do CV"
   ]
  },
  {
   "cell_type": "markdown",
   "metadata": {},
   "source": [
    "###### n_sample = 100"
   ]
  },
  {
   "cell_type": "code",
   "execution_count": 130,
   "metadata": {},
   "outputs": [
    {
     "name": "stdout",
     "output_type": "stream",
     "text": [
      " Validation error: [24.95, 25.11, 25.07] \n",
      " Train error: [25.38, 25.3, 25.32] \n",
      "\n",
      "\n",
      "Time: 325.673122882843\n"
     ]
    }
   ],
   "source": [
    "start = time.time()\n",
    "\n",
    "val_error,tr_error = cross_validation(X_train,y_train,model_list,psnr,folds= 3)\n",
    "print(' Validation error:',val_error,'\\n','Train error:',tr_error,'\\n\\n')\n",
    "\n",
    "end = time.time()\n",
    "print('Time:',end - start)"
   ]
  },
  {
   "cell_type": "markdown",
   "metadata": {},
   "source": [
    "###### n_sample = 1000"
   ]
  },
  {
   "cell_type": "code",
   "execution_count": 94,
   "metadata": {},
   "outputs": [
    {
     "name": "stdout",
     "output_type": "stream",
     "text": [
      "\n",
      " Validation error: [24.93, 24.89, 24.9] \n",
      " Train error: [24.93, 24.95, 24.95] \n",
      "\n",
      "\n",
      "Time: 4603.56507897377\n"
     ]
    }
   ],
   "source": [
    "start = time.time()\n",
    "\n",
    "val_error,tr_error = cross_validation(X_train,y_train,model_list,psnr,folds= 3)\n",
    "print(' Validation error:',val_error,'\\n','Train error:',tr_error,'\\n\\n')\n",
    "\n",
    "end = time.time()\n",
    "print('Time:',end - start)"
   ]
  },
  {
   "cell_type": "markdown",
   "metadata": {},
   "source": [
    "### Predict"
   ]
  },
  {
   "cell_type": "markdown",
   "metadata": {},
   "source": [
    "###### n_sample = 100"
   ]
  },
  {
   "cell_type": "code",
   "execution_count": 54,
   "metadata": {},
   "outputs": [
    {
     "data": {
      "text/plain": [
       "(30000, 8, 3)"
      ]
     },
     "execution_count": 54,
     "metadata": {},
     "output_type": "execute_result"
    }
   ],
   "source": [
    "X_test.shape"
   ]
  },
  {
   "cell_type": "code",
   "execution_count": 55,
   "metadata": {},
   "outputs": [
    {
     "name": "stdout",
     "output_type": "stream",
     "text": [
      "PSNR: 25.0512282352978 \n",
      "\n",
      "\n",
      "Time: 98.03701448440552\n"
     ]
    }
   ],
   "source": [
    "start = time.time()\n",
    "\n",
    "prediction = Prediction(X_train,y_train,X_test,model_list,test = True)\n",
    "print('PSNR:',psnr(prediction, y_test),'\\n\\n')\n",
    "\n",
    "end = time.time()\n",
    "print('Time:',end - start)"
   ]
  },
  {
   "cell_type": "markdown",
   "metadata": {},
   "source": [
    "###### n_sample = 1000"
   ]
  },
  {
   "cell_type": "code",
   "execution_count": 95,
   "metadata": {},
   "outputs": [
    {
     "name": "stdout",
     "output_type": "stream",
     "text": [
      "\n",
      "PSNR: 24.90888108941163 \n",
      "\n",
      "\n",
      "Time: 1338.4358065128326\n"
     ]
    }
   ],
   "source": [
    "start = time.time()\n",
    "\n",
    "prediction = Prediction(X_train,y_train,X_test,model_list,test = True)\n",
    "print('PSNR:',psnr(prediction, y_test),'\\n\\n')\n",
    "\n",
    "end = time.time()\n",
    "print('Time:',end - start)"
   ]
  },
  {
   "cell_type": "code",
   "execution_count": 127,
   "metadata": {
    "scrolled": true
   },
   "outputs": [],
   "source": [
    "# from xgboost import XGBRegressor    \n",
    "\n",
    "# start = time.time()\n",
    "\n",
    "# model_list_xgb = []\n",
    "# model = XGBRegressor(n_jobs = 6,\n",
    "#                      eval_metric = 'rmse',\n",
    "#                      random_state = seed)\n",
    "\n",
    "# params_xgb = {'n_estimators' : [100, 200,300],\n",
    "#               'learning_rate':[0.01,0.1,0.2,0.3]\n",
    "#              }\n",
    "\n",
    "# best_param = grid_search_all_model(X_train,y_train,model,params_xgb)\n",
    "\n",
    "# # for i in np.arange(12):\n",
    "# #     model_list_xgb.append(XGBRegressor(learning_rate = 0.1,\n",
    "# #                      n_jobs = 6,\n",
    "# #                      n_estimators = 200,\n",
    "# #                      eval_metric = 'rmse',\n",
    "# #                      random_state = seed))\n",
    "\n",
    "# end = time.time()\n",
    "# print('Time:',end - start)\n"
   ]
  },
  {
   "cell_type": "code",
   "execution_count": null,
   "metadata": {},
   "outputs": [],
   "source": [
    "start = time.time()\n",
    "\n",
    "model_list_xgb = []\n",
    "for i in np.arange(12):\n",
    "    model_list_xgb.append(XGBRegressor(learning_rate = 0.1,\n",
    "                                        n_jobs = 6,\n",
    "                                        n_estimators = 200,\n",
    "                                        random_state = seed))\n",
    "\n",
    "\n",
    "\n",
    "val_error,tr_error = cross_validation(X_train,y_train,model_list_xgb,psnr,folds= 3)\n",
    "print(' Validation error:',val_error,'\\n','Train error:',tr_error,'\\n\\n')\n",
    "\n",
    "end = time.time()\n",
    "print('Time:',end - start)"
   ]
  },
  {
   "cell_type": "code",
   "execution_count": 101,
   "metadata": {},
   "outputs": [
    {
     "name": "stdout",
     "output_type": "stream",
     "text": [
      " Validation error: [24.95, 25.12, 25.07] \n",
      " Train error: [25.55, 25.46, 25.48] \n",
      "\n",
      "\n",
      "Time: 166.49743270874023\n"
     ]
    }
   ],
   "source": [
    "start = time.time()\n",
    "\n",
    "val_error,tr_error = cross_validation(X_train,y_train,model_list_xgb,psnr,folds= 3)\n",
    "print(' Validation error:',val_error,'\\n','Train error:',tr_error,'\\n\\n')\n",
    "\n",
    "end = time.time()\n",
    "print('Time:',end - start)"
   ]
  },
  {
   "cell_type": "code",
   "execution_count": 105,
   "metadata": {},
   "outputs": [
    {
     "name": "stdout",
     "output_type": "stream",
     "text": [
      "PSNR: 25.053560815915965 \n",
      "\n",
      "\n",
      "Time: 46.624295711517334\n"
     ]
    }
   ],
   "source": [
    "start = time.time()\n",
    "\n",
    "prediction = Prediction(X_train,y_train,X_test,model_list_xgb,test = True)\n",
    "print('PSNR:',psnr(prediction, y_test),'\\n\\n')\n",
    "\n",
    "end = time.time()\n",
    "print('Time:',end - start)"
   ]
  },
  {
   "cell_type": "code",
   "execution_count": null,
   "metadata": {
    "scrolled": true
   },
   "outputs": [],
   "source": [
    "# def get_X_and_y(LR,HR):\n",
    "    \n",
    "#     def get_neighbor_X(a,i,j):\n",
    "#         return([a[i-1,j-1],a[i-1,j],a[i-1,j+1],a[i,j-1],a[i,j+1],a[i+1,j-1],a[i+1,j],a[i+1,j+1]],a[i,j])\n",
    "\n",
    "#     def get_neighbor_y(a,i,j):\n",
    "#         return([a[i,j],a[i+1,j],a[i,j+1],a[i+1,j+1]],a[i,j])\n",
    "    \n",
    "#     BLACK = [0, 0, 0]\n",
    "#     image_padding = cv2.copyMakeBorder(LR, 1 , 1, 1, 1, cv2.BORDER_CONSTANT, value=BLACK)\n",
    "    \n",
    "#     height = LR.shape[1]\n",
    "#     width = LR.shape[0]\n",
    "    \n",
    "#     y1 = np.zeros((height*width,4))\n",
    "#     y2 = np.zeros((height*width,4))\n",
    "#     y3 = np.zeros((height*width,4))\n",
    "    \n",
    "#     X1 = np.zeros((height*width,8))\n",
    "#     X2 = np.zeros((height*width,8))\n",
    "#     X3 = np.zeros((height*width,8))\n",
    "    \n",
    "#     result = [X1,X2,X3]\n",
    "#     Y = [y1,y2,y3]\n",
    "    \n",
    "#     for X,y,channel in zip(result,Y,channels):\n",
    "#         index = 0\n",
    "#         for i,iy in zip(np.arange(1,width + 1),np.arange(0,width_HR,2)):\n",
    "#             for j,jy in zip(np.arange(1,height + 1),np.arange(0,height_HR,2)):\n",
    "#                 neighbor,central = get_neighbor_X(image_padding[:,:,channel],i,j)\n",
    "#                 y_neigbor,y_central = get_neighbor_y(HR[:,:,channel],iy,jy)\n",
    "#                 # Get X\n",
    "#                 X[index] = neighbor - central\n",
    "#                 # Get y\n",
    "#                 y[index] = y_neigbor - y_central\n",
    "#                 index +=1\n",
    "    \n",
    "    \n",
    "#     # Stack X&Y to 3d\n",
    "#     return np.dstack(result),np.dstack(Y)"
   ]
  },
  {
   "cell_type": "code",
   "execution_count": null,
   "metadata": {},
   "outputs": [],
   "source": []
  }
 ],
 "metadata": {
  "kernelspec": {
   "display_name": "Python 3",
   "language": "python",
   "name": "python3"
  },
  "language_info": {
   "codemirror_mode": {
    "name": "ipython",
    "version": 3
   },
   "file_extension": ".py",
   "mimetype": "text/x-python",
   "name": "python",
   "nbconvert_exporter": "python",
   "pygments_lexer": "ipython3",
   "version": "3.5.4"
  }
 },
 "nbformat": 4,
 "nbformat_minor": 2
}

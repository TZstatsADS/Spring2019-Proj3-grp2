{
 "cells": [
  {
   "cell_type": "code",
   "execution_count": 17,
   "metadata": {
    "collapsed": false,
    "deletable": true,
    "editable": true
   },
   "outputs": [],
   "source": [
    "import pandas as pd\n",
    "import numpy as np\n",
    "import matplotlib.pyplot as plt\n",
    "import seaborn as sns\n",
    "import time\n",
    "%matplotlib notebook\n",
    "import warnings\n",
    "warnings.filterwarnings('ignore')\n",
    "\n",
    "import cv2"
   ]
  },
  {
   "cell_type": "markdown",
   "metadata": {
    "deletable": true,
    "editable": true
   },
   "source": [
    "# Import image"
   ]
  },
  {
   "cell_type": "code",
   "execution_count": 19,
   "metadata": {
    "collapsed": false,
    "deletable": true,
    "editable": true
   },
   "outputs": [
    {
     "name": "stdout",
     "output_type": "stream",
     "text": [
      "36.62194204330444\n"
     ]
    }
   ],
   "source": [
    "import glob\n",
    "\n",
    "start = time.time()\n",
    "\n",
    "LR = [cv2.imread(file).astype(np.float64) for file in glob.glob(\"../data/train_set/LR/*.jpg\")]\n",
    "HR = [cv2.imread(file).astype(np.float64) for file in glob.glob(\"../data/train_set/HR/*.jpg\")]\n",
    "end = time.time()\n",
    "print(end - start)"
   ]
  },
  {
   "cell_type": "markdown",
   "metadata": {
    "deletable": true,
    "editable": true
   },
   "source": [
    "# Use traditional method"
   ]
  },
  {
   "cell_type": "code",
   "execution_count": 24,
   "metadata": {
    "collapsed": true,
    "deletable": true,
    "editable": true
   },
   "outputs": [],
   "source": [
    "LR_original = [cv2.imread(file) for file in glob.glob(\"../data/train_set/LR/*.jpg\")]\n",
    "\n",
    "LR_to_HR = [cv2.resize(lr, (lr.shape[1]*2, lr.shape[0]*2), interpolation = cv2.INTER_CUBIC) for lr in LR_original] "
   ]
  },
  {
   "cell_type": "code",
   "execution_count": 25,
   "metadata": {
    "collapsed": false,
    "deletable": true,
    "editable": true
   },
   "outputs": [
    {
     "data": {
      "text/plain": [
       "526.14243893245475"
      ]
     },
     "execution_count": 25,
     "metadata": {},
     "output_type": "execute_result"
    }
   ],
   "source": [
    "def mse(imageA, imageB):\n",
    "    # the 'Mean Squared Error' between the two images is the\n",
    "    # sum of the squared difference between the two images;\n",
    "    # NOTE: the two images must have the same dimension\n",
    "    err = np.sum((imageA - imageB) ** 2)\n",
    "    err /= float(imageA.shape[0] * imageA.shape[1])\n",
    "    \n",
    "    # return the MSE, the lower the error, the more \"similar\"\n",
    "    # the two images are\n",
    "    return err\n",
    "\n",
    "m = 0\n",
    "for i in np.arange(1500):\n",
    "    m += mse(HR[i],LR_to_HR[i])\n",
    "m/1500"
   ]
  },
  {
   "cell_type": "markdown",
   "metadata": {
    "deletable": true,
    "editable": true
   },
   "source": [
    "# Get Features X and respond y using baseline"
   ]
  },
  {
   "cell_type": "markdown",
   "metadata": {
    "deletable": true,
    "editable": true
   },
   "source": [
    "### Define basic parameters"
   ]
  },
  {
   "cell_type": "code",
   "execution_count": 26,
   "metadata": {
    "collapsed": true,
    "deletable": true,
    "editable": true
   },
   "outputs": [],
   "source": [
    "seed = 123\n",
    "channels = np.arange(3)\n",
    "sample_size = 100"
   ]
  },
  {
   "cell_type": "code",
   "execution_count": 27,
   "metadata": {
    "collapsed": true,
    "deletable": true,
    "editable": true
   },
   "outputs": [],
   "source": [
    "# Get X and y for single pair of LR and HR\n",
    "def get_X_and_y(LR,HR,n_sample = sample_size,seed = seed):\n",
    "    # determine seed\n",
    "    np.random.seed(seed)\n",
    "    \n",
    "    # Find neighbor\n",
    "    def get_neighbor_X(a,i,j):\n",
    "        return([a[i-1,j-1],a[i-1,j],a[i-1,j+1],a[i,j-1],a[i,j+1],a[i+1,j-1],a[i+1,j],a[i+1,j+1]],a[i,j])\n",
    "\n",
    "    def get_neighbor_y(a,i,j):\n",
    "        return([a[i,j],a[i+1,j],a[i,j+1],a[i+1,j+1]])\n",
    "    \n",
    "    # padding LR image\n",
    "    BLACK = [0, 0, 0]\n",
    "    image_padding = cv2.copyMakeBorder(LR, 1 , 1, 1, 1, cv2.BORDER_CONSTANT, value=BLACK)\n",
    "    \n",
    "    y1 = np.zeros((1*n_sample,4))\n",
    "    y2 = np.zeros((1*n_sample,4))\n",
    "    y3 = np.zeros((1*n_sample,4))\n",
    "    \n",
    "    X1 = np.zeros((1*n_sample,8))\n",
    "    X2 = np.zeros((1*n_sample,8))\n",
    "    X3 = np.zeros((1*n_sample,8))\n",
    "    \n",
    "    result = [X1,X2,X3]\n",
    "    Y = [y1,y2,y3]\n",
    "    \n",
    "#     height = LR.shape[1]\n",
    "#     width = LR.shape[0]\n",
    "    width = LR.shape[1]\n",
    "    height = LR.shape[0]\n",
    "    \n",
    "    # Random pick n_sample point per image\n",
    "    pts_row = np.random.randint(1, height + 1,size = n_sample)\n",
    "    pts_col = np.random.randint(1, width + 1,size = n_sample)\n",
    "    \n",
    "    for X,y,channel in zip(result,Y,channels):\n",
    "        index = 0\n",
    "        for i,j in zip(pts_row,pts_col):\n",
    "            X_neighbor,central = get_neighbor_X(image_padding[:,:,channel],i,j)\n",
    "            y_neigbor = get_neighbor_y(HR[:,:,channel],2*(i-1),2*(j-1))\n",
    "            # Get X\n",
    "            X[index] = X_neighbor - central\n",
    "            # Get y\n",
    "            y[index] = y_neigbor - central\n",
    "            index +=1\n",
    "    \n",
    "    \n",
    "    # Stack X&Y to 3d\n",
    "    return np.dstack(result),np.dstack(Y)"
   ]
  },
  {
   "cell_type": "code",
   "execution_count": 28,
   "metadata": {
    "collapsed": true,
    "deletable": true,
    "editable": true
   },
   "outputs": [],
   "source": [
    "def get_Whole_X_and_y(LR,HR,n_sample = sample_size,seed = seed):\n",
    "    flag = 0\n",
    "    for lr,hr in zip(LR,HR):\n",
    "        if (flag == 0):\n",
    "            X,y = get_X_and_y(lr,hr,n_sample,seed)\n",
    "            flag = 1\n",
    "        else:\n",
    "            X_temp,y_temp = get_X_and_y(lr,hr,n_sample,seed)\n",
    "            X = np.vstack([X,X_temp])\n",
    "            y = np.vstack([y,y_temp])\n",
    "    return X,y"
   ]
  },
  {
   "cell_type": "code",
   "execution_count": 29,
   "metadata": {
    "collapsed": false,
    "deletable": true,
    "editable": true
   },
   "outputs": [
    {
     "name": "stdout",
     "output_type": "stream",
     "text": [
      "164.4905881881714\n"
     ]
    }
   ],
   "source": [
    "# n_sample should be 1000\n",
    "start = time.time()\n",
    "X,y = get_Whole_X_and_y(LR,HR,n_sample = sample_size)\n",
    "end = time.time()\n",
    "print(end - start)"
   ]
  },
  {
   "cell_type": "code",
   "execution_count": 30,
   "metadata": {
    "collapsed": false,
    "deletable": true,
    "editable": true,
    "scrolled": true
   },
   "outputs": [
    {
     "name": "stdout",
     "output_type": "stream",
     "text": [
      "(150000, 8, 3) (150000, 4, 3)\n"
     ]
    }
   ],
   "source": [
    "print(X.shape,y.shape)"
   ]
  },
  {
   "cell_type": "markdown",
   "metadata": {
    "deletable": true,
    "editable": true
   },
   "source": [
    "# Train & Test split"
   ]
  },
  {
   "cell_type": "code",
   "execution_count": 31,
   "metadata": {
    "collapsed": true,
    "deletable": true,
    "editable": true
   },
   "outputs": [],
   "source": [
    "from sklearn.model_selection import train_test_split\n",
    "\n",
    "X_train, X_test, y_train, y_test = train_test_split(X, y, test_size=0.2,shuffle = True ,random_state=seed)"
   ]
  },
  {
   "cell_type": "code",
   "execution_count": 32,
   "metadata": {
    "collapsed": false,
    "deletable": true,
    "editable": true
   },
   "outputs": [
    {
     "name": "stdout",
     "output_type": "stream",
     "text": [
      "(120000, 8, 3) (120000, 4, 3)\n"
     ]
    }
   ],
   "source": [
    "print(X_train.shape,y_train.shape)"
   ]
  },
  {
   "cell_type": "code",
   "execution_count": 33,
   "metadata": {
    "collapsed": false,
    "deletable": true,
    "editable": true
   },
   "outputs": [
    {
     "name": "stdout",
     "output_type": "stream",
     "text": [
      "(30000, 8, 3) (30000, 4, 3)\n"
     ]
    }
   ],
   "source": [
    "print(X_test.shape,y_test.shape)"
   ]
  },
  {
   "cell_type": "markdown",
   "metadata": {
    "deletable": true,
    "editable": true
   },
   "source": [
    "# Prepare functions"
   ]
  },
  {
   "cell_type": "markdown",
   "metadata": {
    "deletable": true,
    "editable": true
   },
   "source": [
    "###### Prediction"
   ]
  },
  {
   "cell_type": "code",
   "execution_count": 34,
   "metadata": {
    "collapsed": true,
    "deletable": true,
    "editable": true,
    "scrolled": true
   },
   "outputs": [],
   "source": [
    "# test paramter == True means you want to predict X_test, False mean you want to predict X_train\n",
    "def Prediction(X_tr,y_tr,X_ts,model1,model2,model3,model4,test = True):\n",
    "    \n",
    "    if (test == False):\n",
    "        X_test = X_tr\n",
    "        \n",
    "    else:\n",
    "        X_test = X_ts\n",
    "    \n",
    "    prediction1 = np.zeros((X_test.shape[0],1,3))\n",
    "    prediction2 = np.zeros((X_test.shape[0],1,3))\n",
    "    prediction3 = np.zeros((X_test.shape[0],1,3))\n",
    "    prediction4 = np.zeros((X_test.shape[0],1,3))\n",
    "\n",
    "    for channel in channels:\n",
    "        model1.fit(X_tr[:,:,channel],y_tr[:,0,channel].reshape(-1,1))\n",
    "        model2.fit(X_tr[:,:,channel],y_tr[:,1,channel].reshape(-1,1))\n",
    "        model3.fit(X_tr[:,:,channel],y_tr[:,2,channel].reshape(-1,1))\n",
    "        model4.fit(X_tr[:,:,channel],y_tr[:,3,channel].reshape(-1,1))\n",
    "\n",
    "        prediction1[:,:,channel] = model1.predict(X_test[:,:,channel]).reshape(-1,1)\n",
    "        prediction2[:,:,channel] = model2.predict(X_test[:,:,channel]).reshape(-1,1)\n",
    "        prediction3[:,:,channel] = model3.predict(X_test[:,:,channel]).reshape(-1,1)\n",
    "        prediction4[:,:,channel] = model4.predict(X_test[:,:,channel]).reshape(-1,1)\n",
    "    \n",
    "    return np.concatenate([prediction1,prediction2,prediction3,prediction4],axis = 1)\n"
   ]
  },
  {
   "cell_type": "markdown",
   "metadata": {
    "deletable": true,
    "editable": true
   },
   "source": [
    "###### Metric"
   ]
  },
  {
   "cell_type": "code",
   "execution_count": 35,
   "metadata": {
    "collapsed": true,
    "deletable": true,
    "editable": true
   },
   "outputs": [],
   "source": [
    "import math\n",
    "\n",
    "def MSE(y_true,y_predict):\n",
    "    temp = (y_true - y_predict)**2\n",
    "    return sum(temp.reshape(-1))/(temp.shape[0]*temp.shape[1]*temp.shape[2])\n",
    "\n",
    "def psnr(y_true,y_predict):\n",
    "    temp = (y_true - y_predict)**2\n",
    "    mse = sum(temp.reshape(-1))/(temp.shape[0]*temp.shape[1]*temp.shape[2])\n",
    "    MAXI = 225\n",
    "    return 20*math.log10(MAXI)-10*math.log10(mse)"
   ]
  },
  {
   "cell_type": "markdown",
   "metadata": {
    "deletable": true,
    "editable": true
   },
   "source": [
    "###### CV"
   ]
  },
  {
   "cell_type": "code",
   "execution_count": 36,
   "metadata": {
    "collapsed": true,
    "deletable": true,
    "editable": true
   },
   "outputs": [],
   "source": [
    "from sklearn.model_selection import KFold\n",
    "\n",
    "# Output testing error and training error\n",
    "def cross_validation(X_train,y_train,model1,model2,model3,model4,folds= 3):\n",
    "    kf = KFold(n_splits=folds)\n",
    "    val_error = []\n",
    "    tr_error = []\n",
    "    for train_index, val_index in kf.split(X_train):\n",
    "        X_tr,y_tr = X_train[train_index],y_train[train_index]\n",
    "        X_val,y_val = X_train[val_index],y_train[val_index]\n",
    "        \n",
    "        y_predict_val = Prediction(X_tr,y_tr,X_val,model1,model2,model3,model4,test = True)\n",
    "        y_predict_tr = Prediction(X_tr,y_tr,X_val,model1,model2,model3,model4,test = False)\n",
    "        # Metric \n",
    "        val_error.append(psnr(y_val,y_predict_val)) # change metric here\n",
    "        tr_error.append(psnr(y_tr,y_predict_tr)) # change metric here\n",
    "        \n",
    "    return val_error,tr_error\n",
    "        "
   ]
  },
  {
   "cell_type": "markdown",
   "metadata": {
    "deletable": true,
    "editable": true
   },
   "source": [
    "###### Grid Search"
   ]
  },
  {
   "cell_type": "code",
   "execution_count": 37,
   "metadata": {
    "collapsed": true,
    "deletable": true,
    "editable": true
   },
   "outputs": [],
   "source": [
    "from sklearn.metrics import make_scorer\n",
    "from sklearn.model_selection import GridSearchCV\n",
    "\n",
    "# scorer can be MSE or PSNR\n",
    "\n",
    "def my_grid_search(X_train,y_train,scorer,model,parameters,cv = 3):\n",
    "    my_scorer = make_scorer(scorer, greater_is_better=False)\n",
    "    reg = GridSearchCV(model,\n",
    "                       scoring = my_scorer,\n",
    "                       cv=cv,\n",
    "                      param_grid = parameters)\n",
    "    reg.fit(X_train, y_train)\n",
    "    \n",
    "    print('Best params',reg.best_params_)\n",
    "    print('Best score:',reg.score(X_train, y_train))\n",
    "    \n",
    "    return reg.best_params_"
   ]
  },
  {
   "cell_type": "markdown",
   "metadata": {
    "deletable": true,
    "editable": true
   },
   "source": [
    "# Train using base model (gradient boosting)"
   ]
  },
  {
   "cell_type": "markdown",
   "metadata": {
    "deletable": true,
    "editable": true
   },
   "source": [
    "###### Grid Search"
   ]
  },
  {
   "cell_type": "code",
   "execution_count": 41,
   "metadata": {
    "collapsed": true,
    "deletable": true,
    "editable": true
   },
   "outputs": [],
   "source": [
    " from sklearn.ensemble import GradientBoostingRegressor\n",
    "\n",
    "# parameters = {\n",
    "#     'learning_rate':0.1, # tuning (started with higher learning rate), hight value --> overfit\n",
    "#     'n_estimators' : 100, # tuning with learning_rate\n",
    "#     'criterion' : 'mse',\n",
    "#     'min_samples_split' : 2, # tuning,high values --> under-fitting\n",
    "#     'min_samples_leaf' : 1, # tuning, similar to min_samples_split\n",
    "#     'max_depth' : 3, # tuning, high value --> overfitting\n",
    "#     'max_features' : 3, # ROT: = sqrt(# of features) \n",
    "#     'subsample' : 0.8,\n",
    "#     'random_state' : seed\n",
    "# }"
   ]
  },
  {
   "cell_type": "code",
   "execution_count": 42,
   "metadata": {
    "collapsed": true,
    "deletable": true,
    "editable": true
   },
   "outputs": [],
   "source": [
    "\n",
    "parameters = {\n",
    "    'learning_rate':0.1, # tuning (started with higher learning rate), hight value --> overfit\n",
    "    'n_estimators' : 100, # tuning with learning_rate\n",
    "    'criterion' : 'mse',\n",
    "    'min_samples_split' : 2, # tuning,high values --> under-fitting\n",
    "    'min_samples_leaf' : 1, # tuning, similar to min_samples_split\n",
    "    'max_depth' : 3, # tuning, high value --> overfitting\n",
    "    'max_features' : 3, # ROT: = sqrt(# of features) \n",
    "    'subsample' : 0.8,\n",
    "    'random_state' : seed\n",
    "}"
   ]
  },
  {
   "cell_type": "code",
   "execution_count": 45,
   "metadata": {
    "collapsed": false,
    "deletable": true,
    "editable": true
   },
   "outputs": [
    {
     "name": "stdout",
     "output_type": "stream",
     "text": [
      "68.67245697975159\n"
     ]
    }
   ],
   "source": [
    "start = time.time()\n",
    "\n",
    "gbm1 = GradientBoostingRegressor(**parameters)\n",
    "gbm2 = GradientBoostingRegressor(**parameters)\n",
    "gbm3 = GradientBoostingRegressor(**parameters)\n",
    "gbm4 = GradientBoostingRegressor(**parameters)\n",
    "\n",
    "# prediction = Prediction(X_train,y_train,X_test,gbm1,gbm2,gbm3,gbm4,test = True)\n",
    "\n",
    "end = time.time()\n",
    "print(end - start)"
   ]
  },
  {
   "cell_type": "markdown",
   "metadata": {
    "deletable": true,
    "editable": true
   },
   "source": [
    "### Do CV"
   ]
  },
  {
   "cell_type": "code",
   "execution_count": 46,
   "metadata": {
    "collapsed": false,
    "deletable": true,
    "editable": true
   },
   "outputs": [
    {
     "name": "stdout",
     "output_type": "stream",
     "text": [
      "Validation error: [24.836008464329385, 24.86166645095201, 24.80210526428031] Train error: [25.09859840409154, 25.088562991093152, 25.105711596423657]\n",
      "396.8438630104065\n"
     ]
    }
   ],
   "source": [
    "start = time.time()\n",
    "\n",
    "val_error,tr_error = cross_validation(X_train,y_train,gbm1,gbm2,gbm3,gbm4,folds= 3)\n",
    "print('Validation error:',val_error,'Train error:',tr_error)\n",
    "\n",
    "end = time.time()\n",
    "print(end - start)"
   ]
  },
  {
   "cell_type": "code",
   "execution_count": 47,
   "metadata": {
    "collapsed": false,
    "deletable": true,
    "editable": true
   },
   "outputs": [
    {
     "data": {
      "text/plain": [
       "161.25034664262898"
      ]
     },
     "execution_count": 47,
     "metadata": {},
     "output_type": "execute_result"
    }
   ],
   "source": [
    "MSE(prediction , y_test)"
   ]
  },
  {
   "cell_type": "code",
   "execution_count": 48,
   "metadata": {
    "collapsed": false,
    "deletable": true,
    "editable": true
   },
   "outputs": [
    {
     "ename": "ValueError",
     "evalue": "operands could not be broadcast together with shapes (30000,4,3) (120000,4,3) ",
     "output_type": "error",
     "traceback": [
      "\u001b[0;31m---------------------------------------------------------------------------\u001b[0m",
      "\u001b[0;31mValueError\u001b[0m                                Traceback (most recent call last)",
      "\u001b[0;32m<ipython-input-48-0676b4067279>\u001b[0m in \u001b[0;36m<module>\u001b[0;34m()\u001b[0m\n\u001b[0;32m----> 1\u001b[0;31m \u001b[0mMSE\u001b[0m\u001b[0;34m(\u001b[0m\u001b[0mprediction\u001b[0m \u001b[0;34m,\u001b[0m \u001b[0my_train\u001b[0m\u001b[0;34m)\u001b[0m\u001b[0;34m\u001b[0m\u001b[0m\n\u001b[0m",
      "\u001b[0;32m<ipython-input-35-07f0f9ffab82>\u001b[0m in \u001b[0;36mMSE\u001b[0;34m(y_true, y_predict)\u001b[0m\n\u001b[1;32m      2\u001b[0m \u001b[0;34m\u001b[0m\u001b[0m\n\u001b[1;32m      3\u001b[0m \u001b[0;32mdef\u001b[0m \u001b[0mMSE\u001b[0m\u001b[0;34m(\u001b[0m\u001b[0my_true\u001b[0m\u001b[0;34m,\u001b[0m\u001b[0my_predict\u001b[0m\u001b[0;34m)\u001b[0m\u001b[0;34m:\u001b[0m\u001b[0;34m\u001b[0m\u001b[0m\n\u001b[0;32m----> 4\u001b[0;31m     \u001b[0mtemp\u001b[0m \u001b[0;34m=\u001b[0m \u001b[0;34m(\u001b[0m\u001b[0my_true\u001b[0m \u001b[0;34m-\u001b[0m \u001b[0my_predict\u001b[0m\u001b[0;34m)\u001b[0m\u001b[0;34m**\u001b[0m\u001b[0;36m2\u001b[0m\u001b[0;34m\u001b[0m\u001b[0m\n\u001b[0m\u001b[1;32m      5\u001b[0m     \u001b[0;32mreturn\u001b[0m \u001b[0msum\u001b[0m\u001b[0;34m(\u001b[0m\u001b[0mtemp\u001b[0m\u001b[0;34m.\u001b[0m\u001b[0mreshape\u001b[0m\u001b[0;34m(\u001b[0m\u001b[0;34m-\u001b[0m\u001b[0;36m1\u001b[0m\u001b[0;34m)\u001b[0m\u001b[0;34m)\u001b[0m\u001b[0;34m/\u001b[0m\u001b[0;34m(\u001b[0m\u001b[0mtemp\u001b[0m\u001b[0;34m.\u001b[0m\u001b[0mshape\u001b[0m\u001b[0;34m[\u001b[0m\u001b[0;36m0\u001b[0m\u001b[0;34m]\u001b[0m\u001b[0;34m*\u001b[0m\u001b[0mtemp\u001b[0m\u001b[0;34m.\u001b[0m\u001b[0mshape\u001b[0m\u001b[0;34m[\u001b[0m\u001b[0;36m1\u001b[0m\u001b[0;34m]\u001b[0m\u001b[0;34m*\u001b[0m\u001b[0mtemp\u001b[0m\u001b[0;34m.\u001b[0m\u001b[0mshape\u001b[0m\u001b[0;34m[\u001b[0m\u001b[0;36m2\u001b[0m\u001b[0;34m]\u001b[0m\u001b[0;34m)\u001b[0m\u001b[0;34m\u001b[0m\u001b[0m\n\u001b[1;32m      6\u001b[0m \u001b[0;34m\u001b[0m\u001b[0m\n",
      "\u001b[0;31mValueError\u001b[0m: operands could not be broadcast together with shapes (30000,4,3) (120000,4,3) "
     ]
    }
   ],
   "source": [
    "MSE(prediction , y_train)"
   ]
  },
  {
   "cell_type": "code",
   "execution_count": 49,
   "metadata": {
    "collapsed": false,
    "deletable": true,
    "editable": true
   },
   "outputs": [
    {
     "ename": "TypeError",
     "evalue": "psnr() missing 1 required positional argument: 'y_predict'",
     "output_type": "error",
     "traceback": [
      "\u001b[0;31m---------------------------------------------------------------------------\u001b[0m",
      "\u001b[0;31mTypeError\u001b[0m                                 Traceback (most recent call last)",
      "\u001b[0;32m<ipython-input-49-828b7900216d>\u001b[0m in \u001b[0;36m<module>\u001b[0;34m()\u001b[0m\n\u001b[0;32m----> 1\u001b[0;31m \u001b[0mpsnr\u001b[0m\u001b[0;34m(\u001b[0m\u001b[0mm\u001b[0m\u001b[0;34m)\u001b[0m\u001b[0;34m\u001b[0m\u001b[0m\n\u001b[0m",
      "\u001b[0;31mTypeError\u001b[0m: psnr() missing 1 required positional argument: 'y_predict'"
     ]
    }
   ],
   "source": [
    "psnr(m)"
   ]
  },
  {
   "cell_type": "code",
   "execution_count": null,
   "metadata": {
    "collapsed": true,
    "deletable": true,
    "editable": true,
    "scrolled": true
   },
   "outputs": [],
   "source": [
    "# def get_X_and_y(LR,HR):\n",
    "    \n",
    "#     def get_neighbor_X(a,i,j):\n",
    "#         return([a[i-1,j-1],a[i-1,j],a[i-1,j+1],a[i,j-1],a[i,j+1],a[i+1,j-1],a[i+1,j],a[i+1,j+1]],a[i,j])\n",
    "\n",
    "#     def get_neighbor_y(a,i,j):\n",
    "#         return([a[i,j],a[i+1,j],a[i,j+1],a[i+1,j+1]],a[i,j])\n",
    "    \n",
    "#     BLACK = [0, 0, 0]\n",
    "#     image_padding = cv2.copyMakeBorder(LR, 1 , 1, 1, 1, cv2.BORDER_CONSTANT, value=BLACK)\n",
    "    \n",
    "#     height = LR.shape[1]\n",
    "#     width = LR.shape[0]\n",
    "    \n",
    "#     y1 = np.zeros((height*width,4))\n",
    "#     y2 = np.zeros((height*width,4))\n",
    "#     y3 = np.zeros((height*width,4))\n",
    "    \n",
    "#     X1 = np.zeros((height*width,8))\n",
    "#     X2 = np.zeros((height*width,8))\n",
    "#     X3 = np.zeros((height*width,8))\n",
    "    \n",
    "#     result = [X1,X2,X3]\n",
    "#     Y = [y1,y2,y3]\n",
    "    \n",
    "#     for X,y,channel in zip(result,Y,channels):\n",
    "#         index = 0\n",
    "#         for i,iy in zip(np.arange(1,width + 1),np.arange(0,width_HR,2)):\n",
    "#             for j,jy in zip(np.arange(1,height + 1),np.arange(0,height_HR,2)):\n",
    "#                 neighbor,central = get_neighbor_X(image_padding[:,:,channel],i,j)\n",
    "#                 y_neigbor,y_central = get_neighbor_y(HR[:,:,channel],iy,jy)\n",
    "#                 # Get X\n",
    "#                 X[index] = neighbor - central\n",
    "#                 # Get y\n",
    "#                 y[index] = y_neigbor - y_central\n",
    "#                 index +=1\n",
    "    \n",
    "    \n",
    "#     # Stack X&Y to 3d\n",
    "#     return np.dstack(result),np.dstack(Y)"
   ]
  },
  {
   "cell_type": "code",
   "execution_count": null,
   "metadata": {
    "collapsed": true,
    "deletable": true,
    "editable": true
   },
   "outputs": [],
   "source": []
  }
 ],
 "metadata": {
  "kernelspec": {
   "display_name": "Python 3",
   "language": "python",
   "name": "python3"
  },
  "language_info": {
   "codemirror_mode": {
    "name": "ipython",
    "version": 3
   },
   "file_extension": ".py",
   "mimetype": "text/x-python",
   "name": "python",
   "nbconvert_exporter": "python",
   "pygments_lexer": "ipython3",
   "version": "3.5.2"
  }
 },
 "nbformat": 4,
 "nbformat_minor": 2
}
